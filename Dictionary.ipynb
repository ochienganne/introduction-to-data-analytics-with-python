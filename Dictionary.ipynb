{
 "cells": [
  {
   "cell_type": "code",
   "execution_count": 5,
   "id": "a5567790-08e9-4982-8279-47a43126270d",
   "metadata": {},
   "outputs": [],
   "source": [
    "my_dictionary = {\n",
    "    \"name\":\"person 1\",\n",
    "    \"Age\":35,\n",
    "    \"salary\":400\n",
    "}"
   ]
  },
  {
   "cell_type": "code",
   "execution_count": 7,
   "id": "2c1a16ba-e1d8-4671-9afb-22c31c5bc22f",
   "metadata": {},
   "outputs": [
    {
     "name": "stdout",
     "output_type": "stream",
     "text": [
      "{'name': 'person 1', 'Age': 35, 'salary': 400}\n"
     ]
    }
   ],
   "source": [
    "print(my_dictionary)"
   ]
  },
  {
   "cell_type": "code",
   "execution_count": 17,
   "id": "d5666cd9-0ace-487e-b3cb-4213cf133818",
   "metadata": {},
   "outputs": [],
   "source": [
    "my_dictionary={\n",
    "    'name':['person 1','person 2','person 3','person 4','person 5'],\n",
    "    'age':[35,100,34,456,67],\n",
    "    'salary':[400,500,500,560,750000]}"
   ]
  },
  {
   "cell_type": "code",
   "execution_count": 92,
   "id": "951fda31-eff6-44e8-88c9-6ff0111e3c49",
   "metadata": {},
   "outputs": [],
   "source": [
    "my_dictionary ['Location']:[\"Mombasa\",\"Kisumu\",\"Nakuru\",\"Eldoret\",\"Homabay\"]"
   ]
  },
  {
   "cell_type": "code",
   "execution_count": 90,
   "id": "471973c7-0ab2-44e0-930c-1cc190d7e792",
   "metadata": {},
   "outputs": [
    {
     "data": {
      "text/plain": [
       "{'name': ['person 1', 'person 2', 'person 3', 'person 4', 'person 5'],\n",
       " 'age': [35, 100, 34, 456, 67],\n",
       " 'salary': [400, 500, 500, 560, 750000],\n",
       " 'Location': ['Mombasa', 'Kisumu', 'Nakuru', 'Eldoret', 'Homabay']}"
      ]
     },
     "execution_count": 90,
     "metadata": {},
     "output_type": "execute_result"
    }
   ],
   "source": [
    "my_dictionary"
   ]
  },
  {
   "cell_type": "code",
   "execution_count": 80,
   "id": "4f296857-51f3-4cfa-b156-05fae825d9c1",
   "metadata": {},
   "outputs": [],
   "source": [
    "del my_dictionary['Location']"
   ]
  },
  {
   "cell_type": "code",
   "execution_count": 36,
   "id": "77eff81b-86cd-4956-b76b-bd68eb197629",
   "metadata": {},
   "outputs": [
    {
     "data": {
      "text/plain": [
       "{'name': ['person 1', 'person 2', 'person 3', 'person 4', 'person 5'],\n",
       " 'age': [35, 100, 34, 456, 67],\n",
       " 'salary': [400, 500, 500, 560, 750000]}"
      ]
     },
     "execution_count": 36,
     "metadata": {},
     "output_type": "execute_result"
    }
   ],
   "source": [
    "my_dictionary"
   ]
  },
  {
   "cell_type": "code",
   "execution_count": 38,
   "id": "9dfe8998-11dd-47f2-bc3c-231c9b23f316",
   "metadata": {},
   "outputs": [
    {
     "name": "stdout",
     "output_type": "stream",
     "text": [
      "name ['person 1', 'person 2', 'person 3', 'person 4', 'person 5']\n",
      "age [35, 100, 34, 456, 67]\n",
      "salary [400, 500, 500, 560, 750000]\n"
     ]
    }
   ],
   "source": [
    "for key,value in my_dictionary.items():\n",
    "    print(key, value)"
   ]
  },
  {
   "cell_type": "code",
   "execution_count": 94,
   "id": "1446586a-74ce-44f8-8c04-72a6a0983e79",
   "metadata": {},
   "outputs": [],
   "source": [
    "import pandas as pd"
   ]
  },
  {
   "cell_type": "code",
   "execution_count": null,
   "id": "03c63a1a-6c62-4343-bd7a-5e7d7be21374",
   "metadata": {},
   "outputs": [],
   "source": []
  },
  {
   "cell_type": "code",
   "execution_count": 96,
   "id": "96e0c12d-86ed-4906-9e8b-f6498783fafb",
   "metadata": {},
   "outputs": [
    {
     "data": {
      "text/plain": [
       "{'name': ['person 1', 'person 2', 'person 3', 'person 4', 'person 5'],\n",
       " 'age': [35, 100, 34, 456, 67],\n",
       " 'salary': [400, 500, 500, 560, 750000],\n",
       " 'Location': ['Mombasa', 'Kisumu', 'Nakuru', 'Eldoret', 'Homabay']}"
      ]
     },
     "execution_count": 96,
     "metadata": {},
     "output_type": "execute_result"
    }
   ],
   "source": [
    "my_dictionary"
   ]
  },
  {
   "cell_type": "code",
   "execution_count": 100,
   "id": "3cd1b955-a035-4898-a6bf-43ef488ae163",
   "metadata": {},
   "outputs": [],
   "source": [
    "df = pd.DataFrame(my_dictionary)"
   ]
  },
  {
   "cell_type": "code",
   "execution_count": 102,
   "id": "16b309af-bf7e-420e-8236-0b9bb2ae2476",
   "metadata": {},
   "outputs": [
    {
     "data": {
      "text/html": [
       "<div>\n",
       "<style scoped>\n",
       "    .dataframe tbody tr th:only-of-type {\n",
       "        vertical-align: middle;\n",
       "    }\n",
       "\n",
       "    .dataframe tbody tr th {\n",
       "        vertical-align: top;\n",
       "    }\n",
       "\n",
       "    .dataframe thead th {\n",
       "        text-align: right;\n",
       "    }\n",
       "</style>\n",
       "<table border=\"1\" class=\"dataframe\">\n",
       "  <thead>\n",
       "    <tr style=\"text-align: right;\">\n",
       "      <th></th>\n",
       "      <th>name</th>\n",
       "      <th>age</th>\n",
       "      <th>salary</th>\n",
       "      <th>Location</th>\n",
       "    </tr>\n",
       "  </thead>\n",
       "  <tbody>\n",
       "    <tr>\n",
       "      <th>0</th>\n",
       "      <td>person 1</td>\n",
       "      <td>35</td>\n",
       "      <td>400</td>\n",
       "      <td>Mombasa</td>\n",
       "    </tr>\n",
       "    <tr>\n",
       "      <th>1</th>\n",
       "      <td>person 2</td>\n",
       "      <td>100</td>\n",
       "      <td>500</td>\n",
       "      <td>Kisumu</td>\n",
       "    </tr>\n",
       "    <tr>\n",
       "      <th>2</th>\n",
       "      <td>person 3</td>\n",
       "      <td>34</td>\n",
       "      <td>500</td>\n",
       "      <td>Nakuru</td>\n",
       "    </tr>\n",
       "    <tr>\n",
       "      <th>3</th>\n",
       "      <td>person 4</td>\n",
       "      <td>456</td>\n",
       "      <td>560</td>\n",
       "      <td>Eldoret</td>\n",
       "    </tr>\n",
       "    <tr>\n",
       "      <th>4</th>\n",
       "      <td>person 5</td>\n",
       "      <td>67</td>\n",
       "      <td>750000</td>\n",
       "      <td>Homabay</td>\n",
       "    </tr>\n",
       "  </tbody>\n",
       "</table>\n",
       "</div>"
      ],
      "text/plain": [
       "       name  age  salary Location\n",
       "0  person 1   35     400  Mombasa\n",
       "1  person 2  100     500   Kisumu\n",
       "2  person 3   34     500   Nakuru\n",
       "3  person 4  456     560  Eldoret\n",
       "4  person 5   67  750000  Homabay"
      ]
     },
     "execution_count": 102,
     "metadata": {},
     "output_type": "execute_result"
    }
   ],
   "source": [
    "df"
   ]
  },
  {
   "cell_type": "code",
   "execution_count": 104,
   "id": "d3b8eafd-fd96-4982-8d4b-a2305bd38d33",
   "metadata": {},
   "outputs": [],
   "source": [
    "import pandas"
   ]
  },
  {
   "cell_type": "code",
   "execution_count": 106,
   "id": "36f7d115-2167-4bb6-9316-fbbd2540aac8",
   "metadata": {},
   "outputs": [
    {
     "data": {
      "text/html": [
       "<div>\n",
       "<style scoped>\n",
       "    .dataframe tbody tr th:only-of-type {\n",
       "        vertical-align: middle;\n",
       "    }\n",
       "\n",
       "    .dataframe tbody tr th {\n",
       "        vertical-align: top;\n",
       "    }\n",
       "\n",
       "    .dataframe thead th {\n",
       "        text-align: right;\n",
       "    }\n",
       "</style>\n",
       "<table border=\"1\" class=\"dataframe\">\n",
       "  <thead>\n",
       "    <tr style=\"text-align: right;\">\n",
       "      <th></th>\n",
       "      <th>name</th>\n",
       "      <th>age</th>\n",
       "      <th>salary</th>\n",
       "      <th>Location</th>\n",
       "    </tr>\n",
       "  </thead>\n",
       "  <tbody>\n",
       "    <tr>\n",
       "      <th>0</th>\n",
       "      <td>person 1</td>\n",
       "      <td>35</td>\n",
       "      <td>400</td>\n",
       "      <td>Mombasa</td>\n",
       "    </tr>\n",
       "    <tr>\n",
       "      <th>1</th>\n",
       "      <td>person 2</td>\n",
       "      <td>100</td>\n",
       "      <td>500</td>\n",
       "      <td>Kisumu</td>\n",
       "    </tr>\n",
       "    <tr>\n",
       "      <th>2</th>\n",
       "      <td>person 3</td>\n",
       "      <td>34</td>\n",
       "      <td>500</td>\n",
       "      <td>Nakuru</td>\n",
       "    </tr>\n",
       "    <tr>\n",
       "      <th>3</th>\n",
       "      <td>person 4</td>\n",
       "      <td>456</td>\n",
       "      <td>560</td>\n",
       "      <td>Eldoret</td>\n",
       "    </tr>\n",
       "    <tr>\n",
       "      <th>4</th>\n",
       "      <td>person 5</td>\n",
       "      <td>67</td>\n",
       "      <td>750000</td>\n",
       "      <td>Homabay</td>\n",
       "    </tr>\n",
       "  </tbody>\n",
       "</table>\n",
       "</div>"
      ],
      "text/plain": [
       "       name  age  salary Location\n",
       "0  person 1   35     400  Mombasa\n",
       "1  person 2  100     500   Kisumu\n",
       "2  person 3   34     500   Nakuru\n",
       "3  person 4  456     560  Eldoret\n",
       "4  person 5   67  750000  Homabay"
      ]
     },
     "execution_count": 106,
     "metadata": {},
     "output_type": "execute_result"
    }
   ],
   "source": [
    "df"
   ]
  },
  {
   "cell_type": "code",
   "execution_count": 108,
   "id": "8f53c440-fee0-465e-abd8-5d304bfa14c2",
   "metadata": {},
   "outputs": [
    {
     "data": {
      "text/plain": [
       "0    person 1\n",
       "1    person 2\n",
       "2    person 3\n",
       "3    person 4\n",
       "4    person 5\n",
       "Name: name, dtype: object"
      ]
     },
     "execution_count": 108,
     "metadata": {},
     "output_type": "execute_result"
    }
   ],
   "source": [
    "df[\"name\"]"
   ]
  },
  {
   "cell_type": "code",
   "execution_count": 110,
   "id": "adfd2f58-9e4b-4ccb-bb44-d1885e29f422",
   "metadata": {},
   "outputs": [
    {
     "data": {
      "text/plain": [
       "0    Mombasa\n",
       "1     Kisumu\n",
       "2     Nakuru\n",
       "3    Eldoret\n",
       "4    Homabay\n",
       "Name: Location, dtype: object"
      ]
     },
     "execution_count": 110,
     "metadata": {},
     "output_type": "execute_result"
    }
   ],
   "source": [
    "df[\"Location\"]"
   ]
  },
  {
   "cell_type": "code",
   "execution_count": 112,
   "id": "fb26bb50-3be4-4cf4-a918-861035d32699",
   "metadata": {},
   "outputs": [
    {
     "data": {
      "text/plain": [
       "0       400\n",
       "1       500\n",
       "2       500\n",
       "3       560\n",
       "4    750000\n",
       "Name: salary, dtype: int64"
      ]
     },
     "execution_count": 112,
     "metadata": {},
     "output_type": "execute_result"
    }
   ],
   "source": [
    "df['salary']"
   ]
  },
  {
   "cell_type": "code",
   "execution_count": 114,
   "id": "02d82cc5-5d71-4ab7-8889-c312838d7a24",
   "metadata": {},
   "outputs": [
    {
     "data": {
      "text/html": [
       "<div>\n",
       "<style scoped>\n",
       "    .dataframe tbody tr th:only-of-type {\n",
       "        vertical-align: middle;\n",
       "    }\n",
       "\n",
       "    .dataframe tbody tr th {\n",
       "        vertical-align: top;\n",
       "    }\n",
       "\n",
       "    .dataframe thead th {\n",
       "        text-align: right;\n",
       "    }\n",
       "</style>\n",
       "<table border=\"1\" class=\"dataframe\">\n",
       "  <thead>\n",
       "    <tr style=\"text-align: right;\">\n",
       "      <th></th>\n",
       "      <th>name</th>\n",
       "      <th>age</th>\n",
       "    </tr>\n",
       "  </thead>\n",
       "  <tbody>\n",
       "    <tr>\n",
       "      <th>0</th>\n",
       "      <td>person 1</td>\n",
       "      <td>35</td>\n",
       "    </tr>\n",
       "    <tr>\n",
       "      <th>1</th>\n",
       "      <td>person 2</td>\n",
       "      <td>100</td>\n",
       "    </tr>\n",
       "    <tr>\n",
       "      <th>2</th>\n",
       "      <td>person 3</td>\n",
       "      <td>34</td>\n",
       "    </tr>\n",
       "    <tr>\n",
       "      <th>3</th>\n",
       "      <td>person 4</td>\n",
       "      <td>456</td>\n",
       "    </tr>\n",
       "    <tr>\n",
       "      <th>4</th>\n",
       "      <td>person 5</td>\n",
       "      <td>67</td>\n",
       "    </tr>\n",
       "  </tbody>\n",
       "</table>\n",
       "</div>"
      ],
      "text/plain": [
       "       name  age\n",
       "0  person 1   35\n",
       "1  person 2  100\n",
       "2  person 3   34\n",
       "3  person 4  456\n",
       "4  person 5   67"
      ]
     },
     "execution_count": 114,
     "metadata": {},
     "output_type": "execute_result"
    }
   ],
   "source": [
    "df[[\"name\",\"age\"]]"
   ]
  },
  {
   "cell_type": "code",
   "execution_count": 118,
   "id": "541cb3f9-2fa5-4ead-99aa-0989223cbbf8",
   "metadata": {},
   "outputs": [
    {
     "data": {
      "text/plain": [
       "0       401\n",
       "1       501\n",
       "2       501\n",
       "3       561\n",
       "4    750001\n",
       "Name: salary, dtype: int64"
      ]
     },
     "execution_count": 118,
     "metadata": {},
     "output_type": "execute_result"
    }
   ],
   "source": [
    "df[\"salary\"]+1"
   ]
  },
  {
   "cell_type": "code",
   "execution_count": 128,
   "id": "283ba33e-0da5-4fc7-a076-42742e3566ce",
   "metadata": {},
   "outputs": [
    {
     "data": {
      "text/plain": [
       "0     36\n",
       "1    101\n",
       "2     35\n",
       "3    457\n",
       "4     68\n",
       "Name: age, dtype: int64"
      ]
     },
     "execution_count": 128,
     "metadata": {},
     "output_type": "execute_result"
    }
   ],
   "source": [
    "df[\"age\"]+1"
   ]
  },
  {
   "cell_type": "code",
   "execution_count": 126,
   "id": "86af8d4c-f7d6-4f76-99b8-399f8396e8fd",
   "metadata": {},
   "outputs": [
    {
     "data": {
      "text/plain": [
       "name        object\n",
       "age          int64\n",
       "salary       int64\n",
       "Location    object\n",
       "dtype: object"
      ]
     },
     "execution_count": 126,
     "metadata": {},
     "output_type": "execute_result"
    }
   ],
   "source": [
    "df.dtypes"
   ]
  },
  {
   "cell_type": "code",
   "execution_count": 136,
   "id": "4444dae0-6d68-465f-ab64-3604e82de7e4",
   "metadata": {},
   "outputs": [
    {
     "data": {
      "text/plain": [
       "0     37\n",
       "1    102\n",
       "2     36\n",
       "3    458\n",
       "4     69\n",
       "Name: age, dtype: int64"
      ]
     },
     "execution_count": 136,
     "metadata": {},
     "output_type": "execute_result"
    }
   ],
   "source": [
    "df[\"age\"]+1"
   ]
  },
  {
   "cell_type": "code",
   "execution_count": 132,
   "id": "b1e03984-d252-4990-be5e-3a368a486c84",
   "metadata": {},
   "outputs": [],
   "source": [
    "df[\"age\"] = df[\"age\"]+1"
   ]
  },
  {
   "cell_type": "code",
   "execution_count": 140,
   "id": "5493a278-1c5a-4b4e-acb1-ed13ed5393b5",
   "metadata": {},
   "outputs": [
    {
     "data": {
      "text/html": [
       "<div>\n",
       "<style scoped>\n",
       "    .dataframe tbody tr th:only-of-type {\n",
       "        vertical-align: middle;\n",
       "    }\n",
       "\n",
       "    .dataframe tbody tr th {\n",
       "        vertical-align: top;\n",
       "    }\n",
       "\n",
       "    .dataframe thead th {\n",
       "        text-align: right;\n",
       "    }\n",
       "</style>\n",
       "<table border=\"1\" class=\"dataframe\">\n",
       "  <thead>\n",
       "    <tr style=\"text-align: right;\">\n",
       "      <th></th>\n",
       "      <th>name</th>\n",
       "      <th>age</th>\n",
       "      <th>salary</th>\n",
       "      <th>Location</th>\n",
       "    </tr>\n",
       "  </thead>\n",
       "  <tbody>\n",
       "    <tr>\n",
       "      <th>0</th>\n",
       "      <td>person 1</td>\n",
       "      <td>36</td>\n",
       "      <td>400</td>\n",
       "      <td>Mombasa</td>\n",
       "    </tr>\n",
       "    <tr>\n",
       "      <th>1</th>\n",
       "      <td>person 2</td>\n",
       "      <td>101</td>\n",
       "      <td>500</td>\n",
       "      <td>Kisumu</td>\n",
       "    </tr>\n",
       "    <tr>\n",
       "      <th>2</th>\n",
       "      <td>person 3</td>\n",
       "      <td>35</td>\n",
       "      <td>500</td>\n",
       "      <td>Nakuru</td>\n",
       "    </tr>\n",
       "    <tr>\n",
       "      <th>3</th>\n",
       "      <td>person 4</td>\n",
       "      <td>457</td>\n",
       "      <td>560</td>\n",
       "      <td>Eldoret</td>\n",
       "    </tr>\n",
       "    <tr>\n",
       "      <th>4</th>\n",
       "      <td>person 5</td>\n",
       "      <td>68</td>\n",
       "      <td>750000</td>\n",
       "      <td>Homabay</td>\n",
       "    </tr>\n",
       "  </tbody>\n",
       "</table>\n",
       "</div>"
      ],
      "text/plain": [
       "       name  age  salary Location\n",
       "0  person 1   36     400  Mombasa\n",
       "1  person 2  101     500   Kisumu\n",
       "2  person 3   35     500   Nakuru\n",
       "3  person 4  457     560  Eldoret\n",
       "4  person 5   68  750000  Homabay"
      ]
     },
     "execution_count": 140,
     "metadata": {},
     "output_type": "execute_result"
    }
   ],
   "source": [
    "df"
   ]
  },
  {
   "cell_type": "code",
   "execution_count": 157,
   "id": "1892d389-6bd0-4916-b45c-4455e91e2c81",
   "metadata": {},
   "outputs": [],
   "source": [
    "df[\"age\"],df[\"salary\"] = df[\"age\"]+1,df[\"salary\"]+500"
   ]
  },
  {
   "cell_type": "code",
   "execution_count": 159,
   "id": "9e18cc9e-6ca5-4dac-994c-3b0c1126dbbd",
   "metadata": {},
   "outputs": [
    {
     "data": {
      "text/html": [
       "<div>\n",
       "<style scoped>\n",
       "    .dataframe tbody tr th:only-of-type {\n",
       "        vertical-align: middle;\n",
       "    }\n",
       "\n",
       "    .dataframe tbody tr th {\n",
       "        vertical-align: top;\n",
       "    }\n",
       "\n",
       "    .dataframe thead th {\n",
       "        text-align: right;\n",
       "    }\n",
       "</style>\n",
       "<table border=\"1\" class=\"dataframe\">\n",
       "  <thead>\n",
       "    <tr style=\"text-align: right;\">\n",
       "      <th></th>\n",
       "      <th>name</th>\n",
       "      <th>age</th>\n",
       "      <th>salary</th>\n",
       "      <th>Location</th>\n",
       "    </tr>\n",
       "  </thead>\n",
       "  <tbody>\n",
       "    <tr>\n",
       "      <th>0</th>\n",
       "      <td>person 1</td>\n",
       "      <td>37</td>\n",
       "      <td>900</td>\n",
       "      <td>Mombasa</td>\n",
       "    </tr>\n",
       "    <tr>\n",
       "      <th>1</th>\n",
       "      <td>person 2</td>\n",
       "      <td>102</td>\n",
       "      <td>1000</td>\n",
       "      <td>Kisumu</td>\n",
       "    </tr>\n",
       "    <tr>\n",
       "      <th>2</th>\n",
       "      <td>person 3</td>\n",
       "      <td>36</td>\n",
       "      <td>1000</td>\n",
       "      <td>Nakuru</td>\n",
       "    </tr>\n",
       "    <tr>\n",
       "      <th>3</th>\n",
       "      <td>person 4</td>\n",
       "      <td>458</td>\n",
       "      <td>1060</td>\n",
       "      <td>Eldoret</td>\n",
       "    </tr>\n",
       "    <tr>\n",
       "      <th>4</th>\n",
       "      <td>person 5</td>\n",
       "      <td>69</td>\n",
       "      <td>750500</td>\n",
       "      <td>Homabay</td>\n",
       "    </tr>\n",
       "  </tbody>\n",
       "</table>\n",
       "</div>"
      ],
      "text/plain": [
       "       name  age  salary Location\n",
       "0  person 1   37     900  Mombasa\n",
       "1  person 2  102    1000   Kisumu\n",
       "2  person 3   36    1000   Nakuru\n",
       "3  person 4  458    1060  Eldoret\n",
       "4  person 5   69  750500  Homabay"
      ]
     },
     "execution_count": 159,
     "metadata": {},
     "output_type": "execute_result"
    }
   ],
   "source": [
    "df"
   ]
  },
  {
   "cell_type": "code",
   "execution_count": null,
   "id": "50b4a975-92ee-438a-9343-9ca9d5c129d1",
   "metadata": {},
   "outputs": [],
   "source": []
  }
 ],
 "metadata": {
  "kernelspec": {
   "display_name": "Python 3 (ipykernel)",
   "language": "python",
   "name": "python3"
  },
  "language_info": {
   "codemirror_mode": {
    "name": "ipython",
    "version": 3
   },
   "file_extension": ".py",
   "mimetype": "text/x-python",
   "name": "python",
   "nbconvert_exporter": "python",
   "pygments_lexer": "ipython3",
   "version": "3.12.4"
  }
 },
 "nbformat": 4,
 "nbformat_minor": 5
}
