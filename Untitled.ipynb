{
 "cells": [
  {
   "cell_type": "code",
   "execution_count": 31,
   "id": "f151fe72-a28f-4672-812e-3aadee99634c",
   "metadata": {},
   "outputs": [],
   "source": [
    "first=\"Darly\"\n",
    "second=\"linda\""
   ]
  },
  {
   "cell_type": "code",
   "execution_count": 2,
   "id": "d5bcab3e-cc9b-400e-a14a-6cf65bb15f78",
   "metadata": {},
   "outputs": [
    {
     "data": {
      "text/plain": [
       "'Darlylinda'"
      ]
     },
     "execution_count": 2,
     "metadata": {},
     "output_type": "execute_result"
    }
   ],
   "source": [
    "first+second"
   ]
  },
  {
   "cell_type": "code",
   "execution_count": 62,
   "id": "ff13b8a3-8036-43b3-98e2-dabfa19526d6",
   "metadata": {},
   "outputs": [
    {
     "ename": "SyntaxError",
     "evalue": "invalid syntax (1414724815.py, line 1)",
     "output_type": "error",
     "traceback": [
      "\u001b[1;36m  Cell \u001b[1;32mIn[62], line 1\u001b[1;36m\u001b[0m\n\u001b[1;33m    first\"+ \"+second\u001b[0m\n\u001b[1;37m         ^\u001b[0m\n\u001b[1;31mSyntaxError\u001b[0m\u001b[1;31m:\u001b[0m invalid syntax\n"
     ]
    }
   ],
   "source": [
    "first\"+ \"+second"
   ]
  },
  {
   "cell_type": "code",
   "execution_count": null,
   "id": "6379e609-3f0b-4aef-b90f-974d55e90460",
   "metadata": {},
   "outputs": [],
   "source": [
    "first*2"
   ]
  },
  {
   "cell_type": "code",
   "execution_count": null,
   "id": "841b15b3-8990-4584-842f-66e35ed1d1d2",
   "metadata": {},
   "outputs": [],
   "source": [
    "second*4"
   ]
  },
  {
   "cell_type": "code",
   "execution_count": null,
   "id": "25eaae1d-7ae0-419a-8752-16eed94317cb",
   "metadata": {},
   "outputs": [],
   "source": [
    "first*5"
   ]
  },
  {
   "cell_type": "code",
   "execution_count": 60,
   "id": "8c6eec5b-6132-4320-9714-3ce8d1a4e2d3",
   "metadata": {},
   "outputs": [
    {
     "name": "stdout",
     "output_type": "stream",
     "text": [
      "MilaMila\n"
     ]
    }
   ],
   "source": [
    "s=\"Mila\"\n",
    "print(s+\"Mila\")#Mila Aldy"
   ]
  },
  {
   "cell_type": "code",
   "execution_count": null,
   "id": "c8dfa215-6d57-4d88-b070-c14ddbb84a6e",
   "metadata": {},
   "outputs": [],
   "source": [
    "second=\"Otieno\""
   ]
  },
  {
   "cell_type": "code",
   "execution_count": null,
   "id": "dacf2a18-f5cb-47c0-9024-6c1f75a00d7d",
   "metadata": {},
   "outputs": [],
   "source": [
    "second[0]"
   ]
  },
  {
   "cell_type": "code",
   "execution_count": null,
   "id": "b8912410-2bb2-477a-be30-0ff3e704cad1",
   "metadata": {},
   "outputs": [],
   "source": [
    "second[5]"
   ]
  },
  {
   "cell_type": "code",
   "execution_count": 58,
   "id": "5c8c3a8d-c752-45c8-a756-374cf02b8b87",
   "metadata": {},
   "outputs": [
    {
     "data": {
      "text/plain": [
       "'Darly linda'"
      ]
     },
     "execution_count": 58,
     "metadata": {},
     "output_type": "execute_result"
    }
   ],
   "source": [
    "fullname=first+\" \"+second\n",
    "fullname"
   ]
  },
  {
   "cell_type": "code",
   "execution_count": null,
   "id": "16e9850b-43ef-4dbf-9dc2-da5612933b2d",
   "metadata": {},
   "outputs": [],
   "source": [
    "fullname[0:6]"
   ]
  },
  {
   "cell_type": "code",
   "execution_count": null,
   "id": "29a22fa2-7c0c-4318-91d2-21d7280826c9",
   "metadata": {},
   "outputs": [],
   "source": [
    "fullname[0:7]"
   ]
  },
  {
   "cell_type": "code",
   "execution_count": null,
   "id": "436303ed-7387-4816-ada2-8785072f0d85",
   "metadata": {},
   "outputs": [],
   "source": [
    "fullname[-5:]"
   ]
  },
  {
   "cell_type": "code",
   "execution_count": null,
   "id": "67fd338a-419f-4051-96e3-a72178023304",
   "metadata": {},
   "outputs": [],
   "source": [
    "fullname[-3]"
   ]
  },
  {
   "cell_type": "code",
   "execution_count": null,
   "id": "83b2080c-839a-40a2-b2ab-126e030b5a36",
   "metadata": {},
   "outputs": [],
   "source": [
    "fullname[-3:]"
   ]
  },
  {
   "cell_type": "code",
   "execution_count": null,
   "id": "02f2137a-abe5-44ca-8b63-f25995f1cb9b",
   "metadata": {},
   "outputs": [],
   "source": [
    "fullname[0:12]"
   ]
  },
  {
   "cell_type": "code",
   "execution_count": 17,
   "id": "dc9925fa-1d0a-4e3c-bd0e-8965ac631930",
   "metadata": {},
   "outputs": [
    {
     "name": "stdin",
     "output_type": "stream",
     "text": [
      "Enter First name:  Anne\n"
     ]
    }
   ],
   "source": [
    "name = input (\"Enter First name: \")"
   ]
  },
  {
   "cell_type": "code",
   "execution_count": 25,
   "id": "3c977bea-47a0-4d1c-b69c-8f7f96ce46ea",
   "metadata": {},
   "outputs": [
    {
     "name": "stdout",
     "output_type": "stream",
     "text": [
      "Anne\n"
     ]
    }
   ],
   "source": [
    "print(name)"
   ]
  },
  {
   "cell_type": "code",
   "execution_count": 19,
   "id": "22ab2f13-bd8e-4c79-9772-a5b66a28ef42",
   "metadata": {},
   "outputs": [
    {
     "name": "stdout",
     "output_type": "stream",
     "text": [
      "0\n",
      "1\n",
      "2\n",
      "3\n",
      "4\n",
      "5\n",
      "6\n",
      "7\n",
      "8\n",
      "9\n",
      "10\n"
     ]
    }
   ],
   "source": [
    "for i in range (11):\n",
    "    print(i)"
   ]
  },
  {
   "cell_type": "code",
   "execution_count": 35,
   "id": "f11bb627-3e68-48c9-8a9e-a2677978e345",
   "metadata": {},
   "outputs": [
    {
     "name": "stdout",
     "output_type": "stream",
     "text": [
      "D\n",
      "a\n",
      "r\n",
      "l\n",
      "y\n",
      " \n",
      "l\n",
      "i\n",
      "n\n",
      "d\n",
      "a\n"
     ]
    }
   ],
   "source": [
    "for chr in fullname:\n",
    "    print(chr)"
   ]
  },
  {
   "cell_type": "code",
   "execution_count": 46,
   "id": "08ee3bd4-6862-473c-940a-154ba01af33c",
   "metadata": {},
   "outputs": [
    {
     "name": "stdout",
     "output_type": "stream",
     "text": [
      "10\n",
      "10\n"
     ]
    }
   ],
   "source": [
    "for x in range(1,5,2):\n",
    "     print(i)"
   ]
  },
  {
   "cell_type": "code",
   "execution_count": 56,
   "id": "d9c4fb3b-3977-4921-a452-e48203824436",
   "metadata": {},
   "outputs": [
    {
     "name": "stdout",
     "output_type": "stream",
     "text": [
      "D\n",
      "a\n",
      "r\n",
      "l\n",
      "y\n",
      " \n",
      "l\n",
      "i\n",
      "n\n",
      "d\n",
      "a\n"
     ]
    }
   ],
   "source": [
    "for x in fullname:\n",
    "    print(x)"
   ]
  },
  {
   "cell_type": "code",
   "execution_count": null,
   "id": "a333b7a4-d9ae-4e03-a15b-d1f588bdd4fd",
   "metadata": {},
   "outputs": [],
   "source": [
    "\n"
   ]
  }
 ],
 "metadata": {
  "kernelspec": {
   "display_name": "Python 3 (ipykernel)",
   "language": "python",
   "name": "python3"
  },
  "language_info": {
   "codemirror_mode": {
    "name": "ipython",
    "version": 3
   },
   "file_extension": ".py",
   "mimetype": "text/x-python",
   "name": "python",
   "nbconvert_exporter": "python",
   "pygments_lexer": "ipython3",
   "version": "3.12.4"
  }
 },
 "nbformat": 4,
 "nbformat_minor": 5
}
