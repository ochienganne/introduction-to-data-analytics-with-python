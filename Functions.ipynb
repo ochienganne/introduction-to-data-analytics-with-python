{
 "cells": [
  {
   "cell_type": "code",
   "execution_count": 1,
   "id": "2a37e62b-986e-4093-90b1-562017474569",
   "metadata": {},
   "outputs": [],
   "source": [
    "def family():\n",
    "    print(\"family members\")"
   ]
  },
  {
   "cell_type": "code",
   "execution_count": 3,
   "id": "72fb22ae-cf94-4f7b-8e02-d3a3055ee0c0",
   "metadata": {},
   "outputs": [
    {
     "name": "stdout",
     "output_type": "stream",
     "text": [
      "family members\n"
     ]
    }
   ],
   "source": [
    "family()"
   ]
  },
  {
   "cell_type": "code",
   "execution_count": 7,
   "id": "0d374494-6941-4262-b5fa-63d6a937bff4",
   "metadata": {},
   "outputs": [],
   "source": [
    "def Genz():\n",
    "    print(\"Ruto must go\")"
   ]
  },
  {
   "cell_type": "code",
   "execution_count": 9,
   "id": "356fff62-d6c0-4256-a574-f85b5a48adbd",
   "metadata": {},
   "outputs": [
    {
     "name": "stdout",
     "output_type": "stream",
     "text": [
      "Ruto must go\n"
     ]
    }
   ],
   "source": [
    " Genz()"
   ]
  },
  {
   "cell_type": "code",
   "execution_count": 25,
   "id": "dfd883bd-4fbf-4f87-9b02-999cdaafacd1",
   "metadata": {},
   "outputs": [],
   "source": [
    "def add(a,b):\n",
    "    result =a+b\n",
    "    return(result)"
   ]
  },
  {
   "cell_type": "code",
   "execution_count": 27,
   "id": "ba8d82e2-a4a2-48dd-bde2-03a2f8efd4c8",
   "metadata": {},
   "outputs": [],
   "source": [
    "x= add(6,6)"
   ]
  },
  {
   "cell_type": "code",
   "execution_count": 29,
   "id": "850b921a-7965-4ab0-9e7c-d03f7d9eeca5",
   "metadata": {},
   "outputs": [
    {
     "data": {
      "text/plain": [
       "12"
      ]
     },
     "execution_count": 29,
     "metadata": {},
     "output_type": "execute_result"
    }
   ],
   "source": [
    "x"
   ]
  },
  {
   "cell_type": "code",
   "execution_count": 35,
   "id": "5820d272-8beb-4c0a-aa5f-ab60d538eaf1",
   "metadata": {},
   "outputs": [],
   "source": [
    "def add(a,b):\n",
    "    result =a+b\n",
    "    print(result)"
   ]
  },
  {
   "cell_type": "code",
   "execution_count": 37,
   "id": "42ad3b15-2e3d-482a-9c89-f9ba76124bef",
   "metadata": {},
   "outputs": [
    {
     "name": "stdout",
     "output_type": "stream",
     "text": [
      "12\n"
     ]
    }
   ],
   "source": [
    "x=add(6,6)"
   ]
  },
  {
   "cell_type": "code",
   "execution_count": 60,
   "id": "3484cfe9-059a-46c5-9b25-c869de366959",
   "metadata": {},
   "outputs": [],
   "source": [
    "def add(m,a):\n",
    "    result =m+a\n",
    "    return(result)"
   ]
  },
  {
   "cell_type": "code",
   "execution_count": 65,
   "id": "1e087c21-446b-4773-9ba9-bf25ff11d6f9",
   "metadata": {},
   "outputs": [],
   "source": [
    "y= add(2,2)"
   ]
  },
  {
   "cell_type": "code",
   "execution_count": 68,
   "id": "60bd182e-2c4b-42de-b578-8f79cfa7226c",
   "metadata": {},
   "outputs": [
    {
     "data": {
      "text/plain": [
       "4"
      ]
     },
     "execution_count": 68,
     "metadata": {},
     "output_type": "execute_result"
    }
   ],
   "source": [
    "min(4,5,100)"
   ]
  },
  {
   "cell_type": "code",
   "execution_count": 70,
   "id": "67f5d034-f5f1-4996-a6dd-51650f5a9d87",
   "metadata": {},
   "outputs": [
    {
     "data": {
      "text/plain": [
       "100"
      ]
     },
     "execution_count": 70,
     "metadata": {},
     "output_type": "execute_result"
    }
   ],
   "source": [
    "max(4,5,100)"
   ]
  },
  {
   "cell_type": "code",
   "execution_count": 72,
   "id": "85c7e113-ca1b-4f7b-a21f-37ccd73492fa",
   "metadata": {},
   "outputs": [
    {
     "data": {
      "text/plain": [
       "4"
      ]
     },
     "execution_count": 72,
     "metadata": {},
     "output_type": "execute_result"
    }
   ],
   "source": [
    "len(\"Anne\")"
   ]
  },
  {
   "cell_type": "code",
   "execution_count": 74,
   "id": "76b5c7b6-c9dc-4d33-99d3-ca4ceea9ef1a",
   "metadata": {},
   "outputs": [
    {
     "data": {
      "text/plain": [
       "str"
      ]
     },
     "execution_count": 74,
     "metadata": {},
     "output_type": "execute_result"
    }
   ],
   "source": [
    "type(\"Anne\")"
   ]
  },
  {
   "cell_type": "code",
   "execution_count": 76,
   "id": "e6e6279d-e470-40c6-91a1-01ba7e061b4e",
   "metadata": {},
   "outputs": [
    {
     "data": {
      "text/plain": [
       "str"
      ]
     },
     "execution_count": 76,
     "metadata": {},
     "output_type": "execute_result"
    }
   ],
   "source": [
    "type(\"cat\")"
   ]
  },
  {
   "cell_type": "code",
   "execution_count": 78,
   "id": "e4009afe-8e05-4b60-91bb-d993146df91a",
   "metadata": {},
   "outputs": [
    {
     "data": {
      "text/plain": [
       "str"
      ]
     },
     "execution_count": 78,
     "metadata": {},
     "output_type": "execute_result"
    }
   ],
   "source": [
    "type(\"bootcamp\")"
   ]
  },
  {
   "cell_type": "code",
   "execution_count": null,
   "id": "f2884ec3-1d85-4830-84c1-76cf8dd742ff",
   "metadata": {},
   "outputs": [],
   "source": [
    "grocery=[]\n",
    "grocery=[\"onions\",\"tomatoes\",\"sukuma\"]\n",
    "print(my_list[])"
   ]
  },
  {
   "cell_type": "code",
   "execution_count": 85,
   "id": "b086a629-e634-4e33-ab33-278139e2d888",
   "metadata": {},
   "outputs": [
    {
     "name": "stdout",
     "output_type": "stream",
     "text": [
      "1\n"
     ]
    }
   ],
   "source": [
    "my_list = [1,2,3,4,5]\n",
    "print(my_list[0])#output:1"
   ]
  },
  {
   "cell_type": "code",
   "execution_count": 87,
   "id": "0f44e8dc-9ad1-49a6-8ae4-4e2607bd14aa",
   "metadata": {},
   "outputs": [
    {
     "data": {
      "text/plain": [
       "'wiu'"
      ]
     },
     "execution_count": 87,
     "metadata": {},
     "output_type": "execute_result"
    }
   ],
   "source": [
    "grocery=[\"tomato\",\"wiu\",\"onion\"]\n",
    "grocery[1]"
   ]
  },
  {
   "cell_type": "code",
   "execution_count": 89,
   "id": "287ff89d-a84a-49b7-8a87-ab526cbd1d71",
   "metadata": {},
   "outputs": [
    {
     "name": "stdout",
     "output_type": "stream",
     "text": [
      "tomato\n",
      "wiu\n",
      "onion\n",
      "['tomato', 'wiu', 'onion']\n"
     ]
    }
   ],
   "source": [
    "ind = 0\n",
    "for item in grocery:\n",
    "    print(item )\n",
    "\n",
    "print(grocery)  "
   ]
  },
  {
   "cell_type": "code",
   "execution_count": 91,
   "id": "fbbb6fa8-dd43-456f-842d-054bfa73654d",
   "metadata": {},
   "outputs": [
    {
     "data": {
      "text/plain": [
       "'rech'"
      ]
     },
     "execution_count": 91,
     "metadata": {},
     "output_type": "execute_result"
    }
   ],
   "source": [
    "grocery=[\"tomato\",\"rech\",\"onion\"]\n",
    "grocery[1]"
   ]
  },
  {
   "cell_type": "code",
   "execution_count": 98,
   "id": "3a26ff90-28bd-49f0-930f-dd7235016cd1",
   "metadata": {},
   "outputs": [
    {
     "name": "stdout",
     "output_type": "stream",
     "text": [
      "['tomato', 'rech', 'onion']\n"
     ]
    }
   ],
   "source": [
    "grocery=[\"tomato\",\"rech\",\"onion\"]\n",
    "ind = 0\n",
    "for item in grocery:\n",
    "    if item == \"wui\":\n",
    "        grocery[ind]=\"rech\"\n",
    "ind= ind +1\n",
    "print(grocery)  "
   ]
  },
  {
   "cell_type": "code",
   "execution_count": 102,
   "id": "111598e8-53dc-4e28-b749-1c94334410e8",
   "metadata": {},
   "outputs": [
    {
     "name": "stdout",
     "output_type": "stream",
     "text": [
      "['tomato', 'rech', 'onion', 'cabbage']\n"
     ]
    }
   ],
   "source": [
    "grocery.append(\"cabbage\")\n",
    "print(grocery)"
   ]
  },
  {
   "cell_type": "code",
   "execution_count": 106,
   "id": "1eaf37b5-5045-44d0-b72b-9d19a512158e",
   "metadata": {},
   "outputs": [
    {
     "name": "stdout",
     "output_type": "stream",
     "text": [
      "['tomato', 'rech', 'onion', 'cabbage']\n"
     ]
    }
   ],
   "source": [
    "grocery.count(\"cabbage\")\n",
    "print(grocery)"
   ]
  },
  {
   "cell_type": "raw",
   "id": "95ddf75b-e0a2-41f4-b355-da60acb472b3",
   "metadata": {},
   "source": [
    "grocery.sort()\n",
    "print(\"tomato\",\"rech\",\"onion\")"
   ]
  },
  {
   "cell_type": "code",
   "execution_count": 6,
   "id": "271a16db-1d27-48bc-be2f-7c773f8330a3",
   "metadata": {},
   "outputs": [
    {
     "name": "stdout",
     "output_type": "stream",
     "text": [
      "\n"
     ]
    }
   ],
   "source": []
  },
  {
   "cell_type": "code",
   "execution_count": null,
   "id": "d748a0a7-cd34-4102-98cc-d0b613316ea3",
   "metadata": {},
   "outputs": [],
   "source": []
  },
  {
   "cell_type": "code",
   "execution_count": null,
   "id": "2c41c5de-923d-4347-805a-2594376d26a1",
   "metadata": {},
   "outputs": [],
   "source": []
  }
 ],
 "metadata": {
  "kernelspec": {
   "display_name": "Python 3 (ipykernel)",
   "language": "python",
   "name": "python3"
  },
  "language_info": {
   "codemirror_mode": {
    "name": "ipython",
    "version": 3
   },
   "file_extension": ".py",
   "mimetype": "text/x-python",
   "name": "python",
   "nbconvert_exporter": "python",
   "pygments_lexer": "ipython3",
   "version": "3.12.4"
  }
 },
 "nbformat": 4,
 "nbformat_minor": 5
}
